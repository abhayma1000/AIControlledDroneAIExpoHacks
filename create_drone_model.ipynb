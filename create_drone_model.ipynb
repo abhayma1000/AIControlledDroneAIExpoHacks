{
 "cells": [
  {
   "cell_type": "markdown",
   "id": "9b8e3275",
   "metadata": {},
   "source": [
    "# DJI Flight Data Next-Step Prediction\n",
    "\n",
    "This notebook builds an AI model to predict the next-step values of drone telemetry (OSD.pitch, OSD.roll, OSD.yaw, OSD.xSpeed, OSD.ySpeed, OSD.zSpeed) using current and control inputs from DJI flight logs."
   ]
  },
  {
   "cell_type": "code",
   "execution_count": null,
   "id": "570e46b3",
   "metadata": {},
   "outputs": [],
   "source": [
    "import pandas as pd\n",
    "import numpy as np\n",
    "import matplotlib.pyplot as plt\n",
    "import tensorflow as tf\n",
    "from tensorflow import keras\n",
    "\n",
    "# Custom train_test_split, StandardScaler, mean_squared_error, r2_score will be defined below\n"
   ]
  },
  {
   "cell_type": "markdown",
   "id": "8fc5247b",
   "metadata": {},
   "source": [
    "## Load and Explore Dataset\n",
    "Load the DJI flight log and inspect its structure."
   ]
  },
  {
   "cell_type": "code",
   "execution_count": null,
   "id": "da0a9124",
   "metadata": {},
   "outputs": [],
   "source": [
    "def train_test_split(X, y, test_size=0.2, shuffle=False):\n",
    "    n_samples = X.shape[0]\n",
    "    n_test = int(n_samples * test_size)\n",
    "    if shuffle:\n",
    "        idx = np.random.permutation(n_samples)\n",
    "        X, y = X[idx], y[idx]\n",
    "    X_train, X_test = X[:-n_test], X[-n_test:]\n",
    "    y_train, y_test = y[:-n_test], y[-n_test:]\n",
    "    return X_train, X_test, y_train, y_test\n",
    "\n",
    "class StandardScaler:\n",
    "    def fit(self, X):\n",
    "        self.mean_ = np.mean(X, axis=0)\n",
    "        self.std_ = np.std(X, axis=0)\n",
    "        self.std_[self.std_ == 0] = 1.0\n",
    "        return self\n",
    "    def transform(self, X):\n",
    "        return (X - self.mean_) / self.std_\n",
    "    def fit_transform(self, X):\n",
    "        return self.fit(X).transform(X)\n",
    "    def inverse_transform(self, X):\n",
    "        return X * self.std_ + self.mean_\n",
    "\n",
    "def mean_squared_error(y_true, y_pred):\n",
    "    return np.mean((y_true - y_pred) ** 2)\n",
    "\n",
    "def r2_score(y_true, y_pred):\n",
    "    ss_res = np.sum((y_true - y_pred) ** 2)\n",
    "    ss_tot = np.sum((y_true - np.mean(y_true, axis=0)) ** 2)\n",
    "    return 1 - ss_res / ss_tot\n"
   ]
  },
  {
   "cell_type": "code",
   "execution_count": null,
   "id": "433a49ab",
   "metadata": {},
   "outputs": [],
   "source": [
    "df = pd.read_csv('DJIFlightRecord_2025-02-17_5D.csv')\n",
    "df.head(), df.columns.tolist()"
   ]
  },
  {
   "cell_type": "markdown",
   "id": "8d2be38e",
   "metadata": {},
   "source": [
    "## Preprocess Data\n",
    "Handle missing values and normalize features."
   ]
  },
  {
   "cell_type": "code",
   "execution_count": null,
   "id": "29249266",
   "metadata": {},
   "outputs": [],
   "source": [
    "# Select relevant columns\n",
    "cols = [\n",
    "    'OSD.pitch', 'OSD.roll', 'OSD.yaw',\n",
    "    'OSD.xSpeed [MPH]', 'OSD.ySpeed [MPH]', 'OSD.zSpeed [MPH]',\n",
    "    'RC.aileron', 'RC.elevator', 'RC.throttle', 'RC.rudder'\n",
    "]\n",
    "df_selected = df[cols].dropna()\n",
    "df_selected.info()\n",
    "df_selected.describe()"
   ]
  },
  {
   "cell_type": "markdown",
   "id": "1a4ed2f7",
   "metadata": {},
   "source": [
    "## Feature Engineering\n",
    "Create input and target features for next-step prediction."
   ]
  },
  {
   "cell_type": "code",
   "execution_count": null,
   "id": "10e6e984",
   "metadata": {},
   "outputs": [],
   "source": [
    "# Features: all columns at time t\n",
    "# Targets: OSD.pitch, OSD.roll, OSD.yaw, OSD.xSpeed, OSD.ySpeed, OSD.zSpeed at time t+1\n",
    "feature_cols = [\n",
    "    'OSD.pitch', 'OSD.roll', 'OSD.yaw',\n",
    "    'OSD.xSpeed [MPH]', 'OSD.ySpeed [MPH]', 'OSD.zSpeed [MPH]',\n",
    "    'RC.aileron', 'RC.elevator', 'RC.throttle', 'RC.rudder'\n",
    "]\n",
    "target_cols = [\n",
    "    'OSD.pitch', 'OSD.roll', 'OSD.yaw',\n",
    "    'OSD.xSpeed [MPH]', 'OSD.ySpeed [MPH]', 'OSD.zSpeed [MPH]',\n",
    "]\n",
    "\n",
    "X = df_selected[feature_cols].iloc[:-1].values\n",
    "y = df_selected[target_cols].iloc[1:].values\n",
    "print('X shape:', X.shape)\n",
    "print('y shape:', y.shape)"
   ]
  },
  {
   "cell_type": "markdown",
   "id": "04ffea39",
   "metadata": {},
   "source": [
    "## Split Data into Training and Testing Sets\n",
    "Split the data for training and evaluation."
   ]
  },
  {
   "cell_type": "code",
   "execution_count": null,
   "id": "32e7dca7",
   "metadata": {},
   "outputs": [],
   "source": [
    "X_train, X_test, y_train, y_test = train_test_split(X, y, test_size=0.2, shuffle=False)\n",
    "\n",
    "# Normalize features and targets\n",
    "scaler_X = StandardScaler()\n",
    "scaler_y = StandardScaler()\n",
    "\n",
    "X_train_scaled = scaler_X.fit_transform(X_train)\n",
    "X_test_scaled = scaler_X.transform(X_test)\n",
    "y_train_scaled = scaler_y.fit_transform(y_train)\n",
    "y_test_scaled = scaler_y.transform(y_test)\n",
    "\n",
    "print('X_train_scaled shape:', X_train_scaled.shape)\n",
    "print('y_train_scaled shape:', y_train_scaled.shape)"
   ]
  },
  {
   "cell_type": "markdown",
   "id": "be6f4bac",
   "metadata": {},
   "source": [
    "## Build Prediction Model\n",
    "Define a neural network to predict next-step telemetry."
   ]
  },
  {
   "cell_type": "code",
   "execution_count": null,
   "id": "f28ca564",
   "metadata": {},
   "outputs": [],
   "source": [
    "model = keras.Sequential([\n",
    "    keras.layers.Input(shape=(X_train_scaled.shape[1],)),\n",
    "    keras.layers.Dense(64, activation='relu'),\n",
    "    keras.layers.Dense(64, activation='relu'),\n",
    "    keras.layers.Dense(y_train_scaled.shape[1])\n",
    "])\n",
    "\n",
    "model.compile(optimizer='adam', loss='mse', metrics=['mae'])\n",
    "model.summary()"
   ]
  },
  {
   "cell_type": "markdown",
   "id": "9bbc15ba",
   "metadata": {},
   "source": [
    "## Train the Model\n",
    "Train the neural network on the training data."
   ]
  },
  {
   "cell_type": "code",
   "execution_count": null,
   "id": "7a9b2230",
   "metadata": {},
   "outputs": [],
   "source": [
    "history = model.fit(\n",
    "    X_train_scaled, y_train_scaled,\n",
    "    validation_data=(X_test_scaled, y_test_scaled),\n",
    "    epochs=1000, batch_size=64, verbose=1\n",
    ")\n",
    "\n",
    "plt.plot(history.history['loss'], label='train loss')\n",
    "plt.plot(history.history['val_loss'], label='val loss')\n",
    "plt.legend()\n",
    "plt.xlabel('Epoch')\n",
    "plt.ylabel('Loss (MSE)')\n",
    "plt.title('Training History')\n",
    "plt.show()"
   ]
  },
  {
   "cell_type": "markdown",
   "id": "acf7b385",
   "metadata": {},
   "source": [
    "## Evaluate the Model\n",
    "Evaluate model performance on the test set."
   ]
  },
  {
   "cell_type": "code",
   "execution_count": null,
   "id": "467051b2",
   "metadata": {},
   "outputs": [],
   "source": [
    "y_pred_scaled = model.predict(X_test_scaled)\n",
    "y_pred = scaler_y.inverse_transform(y_pred_scaled)\n",
    "y_test_orig = scaler_y.inverse_transform(y_test_scaled)\n",
    "\n",
    "mse = mean_squared_error(y_test_orig, y_pred)\n",
    "r2 = r2_score(y_test_orig, y_pred)\n",
    "print(f\"Test MSE: {mse:.4f}\")\n",
    "print(f\"Test R^2: {r2:.4f}\")"
   ]
  },
  {
   "cell_type": "markdown",
   "id": "734a97de",
   "metadata": {},
   "source": [
    "## Predict Next Step\n",
    "Use the trained model to predict the next step for a sample input."
   ]
  },
  {
   "cell_type": "code",
   "execution_count": null,
   "id": "88c0c32b",
   "metadata": {},
   "outputs": [],
   "source": [
    "# Take a random row from the test set as an example\n",
    "idx = np.random.randint(X_test_scaled.shape[0])\n",
    "sample_input = X_test_scaled[idx].reshape(1, -1)\n",
    "predicted_next_scaled = model.predict(sample_input)\n",
    "predicted_next = scaler_y.inverse_transform(predicted_next_scaled)\n",
    "\n",
    "print(f'Predicted next step (OSD.pitch, OSD.roll, OSD.yaw, OSD.xSpeed, OSD.ySpeed, OSD.zSpeed) for test index {idx}:')\n",
    "print(predicted_next[0])\n",
    "\n",
    "print('Actual next step:')\n",
    "print(scaler_y.inverse_transform(y_test_scaled[idx].reshape(1, -1))[0])"
   ]
  },
  {
   "cell_type": "code",
   "execution_count": null,
   "id": "e83d0b67",
   "metadata": {},
   "outputs": [],
   "source": []
  }
 ],
 "metadata": {
  "kernelspec": {
   "display_name": "venv",
   "language": "python",
   "name": "python3"
  },
  "language_info": {
   "codemirror_mode": {
    "name": "ipython",
    "version": 3
   },
   "file_extension": ".py",
   "mimetype": "text/x-python",
   "name": "python",
   "nbconvert_exporter": "python",
   "pygments_lexer": "ipython3",
   "version": "3.12.3"
  }
 },
 "nbformat": 4,
 "nbformat_minor": 5
}
